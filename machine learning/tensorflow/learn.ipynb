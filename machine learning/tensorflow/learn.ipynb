{
 "cells": [
  {
   "cell_type": "markdown",
   "id": "e6c97a85",
   "metadata": {},
   "source": [
    "> creating tensor"
   ]
  },
  {
   "cell_type": "code",
   "execution_count": 1,
   "id": "f2072983",
   "metadata": {},
   "outputs": [
    {
     "name": "stdout",
     "output_type": "stream",
     "text": [
      "Requirement already satisfied: tensorflow==2.20.0 in c:\\users\\hp\\appdata\\local\\programs\\python\\python313\\lib\\site-packages (2.20.0)\n",
      "Requirement already satisfied: absl-py>=1.0.0 in c:\\users\\hp\\appdata\\local\\programs\\python\\python313\\lib\\site-packages (from tensorflow==2.20.0) (2.3.1)\n",
      "Requirement already satisfied: astunparse>=1.6.0 in c:\\users\\hp\\appdata\\local\\programs\\python\\python313\\lib\\site-packages (from tensorflow==2.20.0) (1.6.3)\n",
      "Requirement already satisfied: flatbuffers>=24.3.25 in c:\\users\\hp\\appdata\\local\\programs\\python\\python313\\lib\\site-packages (from tensorflow==2.20.0) (25.2.10)\n",
      "Requirement already satisfied: gast!=0.5.0,!=0.5.1,!=0.5.2,>=0.2.1 in c:\\users\\hp\\appdata\\local\\programs\\python\\python313\\lib\\site-packages (from tensorflow==2.20.0) (0.6.0)\n",
      "Requirement already satisfied: google_pasta>=0.1.1 in c:\\users\\hp\\appdata\\local\\programs\\python\\python313\\lib\\site-packages (from tensorflow==2.20.0) (0.2.0)\n",
      "Requirement already satisfied: libclang>=13.0.0 in c:\\users\\hp\\appdata\\local\\programs\\python\\python313\\lib\\site-packages (from tensorflow==2.20.0) (18.1.1)\n",
      "Requirement already satisfied: opt_einsum>=2.3.2 in c:\\users\\hp\\appdata\\local\\programs\\python\\python313\\lib\\site-packages (from tensorflow==2.20.0) (3.4.0)\n",
      "Requirement already satisfied: packaging in c:\\users\\hp\\appdata\\roaming\\python\\python313\\site-packages (from tensorflow==2.20.0) (25.0)\n",
      "Requirement already satisfied: protobuf>=5.28.0 in c:\\users\\hp\\appdata\\local\\programs\\python\\python313\\lib\\site-packages (from tensorflow==2.20.0) (6.32.1)\n",
      "Requirement already satisfied: requests<3,>=2.21.0 in c:\\users\\hp\\appdata\\local\\programs\\python\\python313\\lib\\site-packages (from tensorflow==2.20.0) (2.32.5)\n",
      "Requirement already satisfied: setuptools in c:\\users\\hp\\appdata\\local\\programs\\python\\python313\\lib\\site-packages (from tensorflow==2.20.0) (80.9.0)\n",
      "Requirement already satisfied: six>=1.12.0 in c:\\users\\hp\\appdata\\roaming\\python\\python313\\site-packages (from tensorflow==2.20.0) (1.17.0)\n",
      "Requirement already satisfied: termcolor>=1.1.0 in c:\\users\\hp\\appdata\\local\\programs\\python\\python313\\lib\\site-packages (from tensorflow==2.20.0) (3.1.0)\n",
      "Requirement already satisfied: typing_extensions>=3.6.6 in c:\\users\\hp\\appdata\\local\\programs\\python\\python313\\lib\\site-packages (from tensorflow==2.20.0) (4.15.0)\n",
      "Requirement already satisfied: wrapt>=1.11.0 in c:\\users\\hp\\appdata\\local\\programs\\python\\python313\\lib\\site-packages (from tensorflow==2.20.0) (1.17.3)\n",
      "Requirement already satisfied: grpcio<2.0,>=1.24.3 in c:\\users\\hp\\appdata\\local\\programs\\python\\python313\\lib\\site-packages (from tensorflow==2.20.0) (1.75.0)\n",
      "Requirement already satisfied: tensorboard~=2.20.0 in c:\\users\\hp\\appdata\\local\\programs\\python\\python313\\lib\\site-packages (from tensorflow==2.20.0) (2.20.0)\n",
      "Requirement already satisfied: keras>=3.10.0 in c:\\users\\hp\\appdata\\local\\programs\\python\\python313\\lib\\site-packages (from tensorflow==2.20.0) (3.11.3)\n",
      "Requirement already satisfied: numpy>=1.26.0 in c:\\users\\hp\\appdata\\local\\programs\\python\\python313\\lib\\site-packages (from tensorflow==2.20.0) (2.3.3)\n",
      "Requirement already satisfied: h5py>=3.11.0 in c:\\users\\hp\\appdata\\local\\programs\\python\\python313\\lib\\site-packages (from tensorflow==2.20.0) (3.14.0)\n",
      "Requirement already satisfied: ml_dtypes<1.0.0,>=0.5.1 in c:\\users\\hp\\appdata\\local\\programs\\python\\python313\\lib\\site-packages (from tensorflow==2.20.0) (0.5.3)\n",
      "Requirement already satisfied: charset_normalizer<4,>=2 in c:\\users\\hp\\appdata\\local\\programs\\python\\python313\\lib\\site-packages (from requests<3,>=2.21.0->tensorflow==2.20.0) (3.4.3)\n",
      "Requirement already satisfied: idna<4,>=2.5 in c:\\users\\hp\\appdata\\local\\programs\\python\\python313\\lib\\site-packages (from requests<3,>=2.21.0->tensorflow==2.20.0) (3.10)\n",
      "Requirement already satisfied: urllib3<3,>=1.21.1 in c:\\users\\hp\\appdata\\local\\programs\\python\\python313\\lib\\site-packages (from requests<3,>=2.21.0->tensorflow==2.20.0) (2.5.0)\n",
      "Requirement already satisfied: certifi>=2017.4.17 in c:\\users\\hp\\appdata\\local\\programs\\python\\python313\\lib\\site-packages (from requests<3,>=2.21.0->tensorflow==2.20.0) (2025.8.3)\n",
      "Requirement already satisfied: markdown>=2.6.8 in c:\\users\\hp\\appdata\\local\\programs\\python\\python313\\lib\\site-packages (from tensorboard~=2.20.0->tensorflow==2.20.0) (3.9)\n",
      "Requirement already satisfied: pillow in c:\\users\\hp\\appdata\\local\\programs\\python\\python313\\lib\\site-packages (from tensorboard~=2.20.0->tensorflow==2.20.0) (11.3.0)\n",
      "Requirement already satisfied: tensorboard-data-server<0.8.0,>=0.7.0 in c:\\users\\hp\\appdata\\local\\programs\\python\\python313\\lib\\site-packages (from tensorboard~=2.20.0->tensorflow==2.20.0) (0.7.2)\n",
      "Requirement already satisfied: werkzeug>=1.0.1 in c:\\users\\hp\\appdata\\local\\programs\\python\\python313\\lib\\site-packages (from tensorboard~=2.20.0->tensorflow==2.20.0) (3.1.3)\n",
      "Requirement already satisfied: wheel<1.0,>=0.23.0 in c:\\users\\hp\\appdata\\local\\programs\\python\\python313\\lib\\site-packages (from astunparse>=1.6.0->tensorflow==2.20.0) (0.45.1)\n",
      "Requirement already satisfied: rich in c:\\users\\hp\\appdata\\local\\programs\\python\\python313\\lib\\site-packages (from keras>=3.10.0->tensorflow==2.20.0) (14.1.0)\n",
      "Requirement already satisfied: namex in c:\\users\\hp\\appdata\\local\\programs\\python\\python313\\lib\\site-packages (from keras>=3.10.0->tensorflow==2.20.0) (0.1.0)\n",
      "Requirement already satisfied: optree in c:\\users\\hp\\appdata\\local\\programs\\python\\python313\\lib\\site-packages (from keras>=3.10.0->tensorflow==2.20.0) (0.17.0)\n",
      "Requirement already satisfied: MarkupSafe>=2.1.1 in c:\\users\\hp\\appdata\\local\\programs\\python\\python313\\lib\\site-packages (from werkzeug>=1.0.1->tensorboard~=2.20.0->tensorflow==2.20.0) (3.0.2)\n",
      "Requirement already satisfied: markdown-it-py>=2.2.0 in c:\\users\\hp\\appdata\\local\\programs\\python\\python313\\lib\\site-packages (from rich->keras>=3.10.0->tensorflow==2.20.0) (4.0.0)\n",
      "Requirement already satisfied: pygments<3.0.0,>=2.13.0 in c:\\users\\hp\\appdata\\roaming\\python\\python313\\site-packages (from rich->keras>=3.10.0->tensorflow==2.20.0) (2.19.2)\n",
      "Requirement already satisfied: mdurl~=0.1 in c:\\users\\hp\\appdata\\local\\programs\\python\\python313\\lib\\site-packages (from markdown-it-py>=2.2.0->rich->keras>=3.10.0->tensorflow==2.20.0) (0.1.2)\n",
      "Note: you may need to restart the kernel to use updated packages.\n"
     ]
    }
   ],
   "source": [
    "pip install tensorflow==2.20.0"
   ]
  },
  {
   "cell_type": "code",
   "execution_count": 2,
   "id": "f946adce",
   "metadata": {},
   "outputs": [],
   "source": [
    "import tensorflow as tf"
   ]
  },
  {
   "cell_type": "code",
   "execution_count": 22,
   "id": "fb302eae",
   "metadata": {},
   "outputs": [],
   "source": [
    "# creating tensor using constant\n",
    "scalar = tf.constant(14)\n",
    "vector = tf.constant([1,2,3,4],dtype=tf.int32)\n",
    "matrix = tf.constant([[1,2,3],[4,5,6]])\n",
    "\n",
    "# creating tensor using variable\n",
    "variable = tf.Variable([1.0,2.0,3.0],[10.0,9.0,8.0])\n",
    "\n",
    "# creating tensor with random value\n",
    "random_tensor = tf.random.uniform(shape=(2,4),minval=0,maxval=10,dtype = tf.int32)"
   ]
  },
  {
   "cell_type": "code",
   "execution_count": 14,
   "id": "56476dde",
   "metadata": {},
   "outputs": [
    {
     "name": "stdout",
     "output_type": "stream",
     "text": [
      "tf.Tensor(\n",
      "[[8 2 0 2]\n",
      " [8 2 7 4]], shape=(2, 4), dtype=int32)\n"
     ]
    }
   ],
   "source": [
    "print(random_tensor)"
   ]
  },
  {
   "cell_type": "code",
   "execution_count": 21,
   "id": "47171b69",
   "metadata": {},
   "outputs": [
    {
     "name": "stdout",
     "output_type": "stream",
     "text": [
      "tf.Tensor(\n",
      "[[1 2 3]\n",
      " [4 5 6]], shape=(2, 3), dtype=int32)\n",
      "\n",
      "matrix: tf.Tensor(\n",
      "[[1 2 3]\n",
      " [4 5 6]], shape=(2, 3), dtype=int32)\n",
      "\n",
      " data type: <dtype: 'int32'>\n",
      "\n",
      " Rank: 2\n"
     ]
    }
   ],
   "source": [
    "print(matrix)\n",
    "print('\\nmatrix:',matrix)\n",
    "print('\\n data type:',matrix.dtype)\n",
    "print('\\n Rank:',tf.rank(matrix).numpy())"
   ]
  },
  {
   "cell_type": "markdown",
   "id": "1fe862eb",
   "metadata": {},
   "source": [
    "* shape\n",
    "    * rank {0,1,2,...}\n",
    "    * dimension{1D: scaler, 2D: vector, 3D:matrix}\n",
    "\n",
    "### batch of data\n",
    "<pre>\n",
    "for 3D of higher\n",
    "    * Images: (batch_size, height, width, channels)\n",
    "    Example: (32, 224, 224, 3) for a batch of 32 RGB images.\n",
    "    * Sequences: (batch_size, time_steps, features)\n",
    "    Example: (64, 100, 50) for a batch of 64 sequences, each with 100 time steps and 50 features.\n",
    "</pre>\n"
   ]
  },
  {
   "cell_type": "markdown",
   "id": "7f8fd5d5",
   "metadata": {},
   "source": [
    "## tensor manipulation\n",
    "* reshape\n",
    "* expand_dims\n",
    "* squeeze\n",
    "* transpose"
   ]
  },
  {
   "cell_type": "code",
   "execution_count": 24,
   "id": "6e8fe7d8",
   "metadata": {},
   "outputs": [
    {
     "name": "stdout",
     "output_type": "stream",
     "text": [
      "tf.Tensor([1. 2. 3. 4.], shape=(4,), dtype=float32)\n"
     ]
    }
   ],
   "source": [
    "# casting data type in tensor\n",
    "casted_tensor = tf.cast(vector,dtype=tf.float32)\n",
    "print(casted_tensor)"
   ]
  },
  {
   "cell_type": "code",
   "execution_count": 33,
   "id": "b3f7beeb",
   "metadata": {},
   "outputs": [
    {
     "name": "stdout",
     "output_type": "stream",
     "text": [
      "Tensor:\n",
      " tf.Tensor(\n",
      "[[[[255]\n",
      "   [  0]\n",
      "   [127]]\n",
      "\n",
      "  [[255]\n",
      "   [  0]\n",
      "   [127]]\n",
      "\n",
      "  [[255]\n",
      "   [  0]\n",
      "   [127]]]\n",
      "\n",
      "\n",
      " [[[255]\n",
      "   [  0]\n",
      "   [127]]\n",
      "\n",
      "  [[255]\n",
      "   [  0]\n",
      "   [127]]\n",
      "\n",
      "  [[255]\n",
      "   [  0]\n",
      "   [127]]]], shape=(2, 3, 3, 1), dtype=uint8)\n",
      "Shape: (2, 3, 3, 1)\n",
      "Data Type: <dtype: 'uint8'>\n",
      "Rank: 4\n",
      "Reshaped Tensor:\n",
      " tf.Tensor(\n",
      "[[255   0 127 255   0 127 255   0 127]\n",
      " [255   0 127 255   0 127 255   0 127]], shape=(2, 9), dtype=uint8)\n",
      "New Shape: (2, 9)\n"
     ]
    }
   ],
   "source": [
    "import tensorflow as tf\n",
    "\n",
    "# Creating a 3-D tensor (batch of 2 images, 3x3 pixels, 1 channel)\n",
    "tensor = tf.constant([\n",
    "    [[[255], [0], [127]],\n",
    "     [[255], [0], [127]],\n",
    "     [[255], [0], [127]]],\n",
    "    \n",
    "    [[[255], [0], [127]],\n",
    "     [[255], [0], [127]],\n",
    "     [[255], [0], [127]]]\n",
    "], dtype=tf.uint8)\n",
    "\n",
    "print(\"Tensor:\\n\", tensor)\n",
    "print(\"Shape:\", tensor.shape)\n",
    "print(\"Data Type:\", tensor.dtype)\n",
    "print(\"Rank:\", tf.rank(tensor).numpy())\n",
    "\n",
    "# # Reshaping the tensor to flatten the images\n",
    "reshaped_tensor = tf.reshape(tensor, (2, 9))\n",
    "print(\"Reshaped Tensor:\\n\", reshaped_tensor)\n",
    "print(\"New Shape:\", reshaped_tensor.shape)"
   ]
  },
  {
   "cell_type": "markdown",
   "id": "038fb3e9",
   "metadata": {},
   "source": [
    "# Basic tensor operations"
   ]
  },
  {
   "cell_type": "markdown",
   "id": "3f47b8f1",
   "metadata": {},
   "source": [
    "> ### arithmetic operation"
   ]
  },
  {
   "cell_type": "code",
   "execution_count": 43,
   "id": "5c88fe72",
   "metadata": {},
   "outputs": [
    {
     "name": "stdout",
     "output_type": "stream",
     "text": [
      "addition: tf.Tensor([ 5  7 12 13], shape=(4,), dtype=int32)\n",
      "subtract: tf.Tensor([-3 -3  0 -3], shape=(4,), dtype=int32)\n",
      "multiplication: tf.Tensor([ 4 10 36 40], shape=(4,), dtype=int32)\n",
      "division tf.Tensor([0.25  0.4   1.    0.625], shape=(4,), dtype=float64)\n"
     ]
    }
   ],
   "source": [
    "# addition\n",
    "a = tf.constant([1,2,6,5])\n",
    "b = tf.constant([4,5,6,8])\n",
    "c = tf.add(a,b)\n",
    "print(f\"addition:\",c)\n",
    "\n",
    "\n",
    "# subtraction\n",
    "print(\"subtract:\",tf.subtract(a,b))\n",
    "\n",
    "#multi\n",
    "print(\"multiplication:\",tf.multiply(a,b))\n",
    "\n",
    "# division\n",
    "print(\"division\",tf.divide(a,b))"
   ]
  },
  {
   "cell_type": "markdown",
   "id": "82882f9e",
   "metadata": {},
   "source": [
    "> ### matrix operations"
   ]
  },
  {
   "cell_type": "code",
   "execution_count": 50,
   "id": "64e720fe",
   "metadata": {},
   "outputs": [
    {
     "name": "stdout",
     "output_type": "stream",
     "text": [
      "(2, 3) (3, 2)\n"
     ]
    }
   ],
   "source": [
    "matrix1 = matrix\n",
    "matrix2 = tf.constant([[3,4],[7,3],[3,4]])\n",
    "print(matrix.shape,matrix2.shape)"
   ]
  },
  {
   "cell_type": "code",
   "execution_count": null,
   "id": "ba8d93c9",
   "metadata": {},
   "outputs": [
    {
     "name": "stdout",
     "output_type": "stream",
     "text": [
      "tf.Tensor(\n",
      "[[26 22]\n",
      " [65 55]], shape=(2, 2), dtype=int32)\n"
     ]
    }
   ],
   "source": [
    "# matrix multiplication\n",
    "print(tf.matmul(matrix1,matrix2))"
   ]
  },
  {
   "cell_type": "code",
   "execution_count": 52,
   "id": "604febf3",
   "metadata": {},
   "outputs": [
    {
     "name": "stdout",
     "output_type": "stream",
     "text": [
      "tf.Tensor(\n",
      "[[1 4]\n",
      " [2 5]\n",
      " [3 6]], shape=(3, 2), dtype=int32)\n"
     ]
    }
   ],
   "source": [
    "# transpose operation\n",
    "print(tf.transpose(matrix1))"
   ]
  }
 ],
 "metadata": {
  "kernelspec": {
   "display_name": "Python 3",
   "language": "python",
   "name": "python3"
  },
  "language_info": {
   "codemirror_mode": {
    "name": "ipython",
    "version": 3
   },
   "file_extension": ".py",
   "mimetype": "text/x-python",
   "name": "python",
   "nbconvert_exporter": "python",
   "pygments_lexer": "ipython3",
   "version": "3.13.7"
  }
 },
 "nbformat": 4,
 "nbformat_minor": 5
}
