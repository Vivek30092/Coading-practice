{
 "cells": [
  {
   "cell_type": "code",
   "execution_count": 2,
   "id": "9401cdc0",
   "metadata": {},
   "outputs": [],
   "source": [
    "import numpy as np"
   ]
  },
  {
   "cell_type": "code",
   "execution_count": 3,
   "id": "78017101",
   "metadata": {},
   "outputs": [],
   "source": [
    "arr_list = np.array([2,3,5,3])\n",
    "arr_tup = np.array((2,3,4,5,3))"
   ]
  },
  {
   "cell_type": "code",
   "execution_count": 4,
   "id": "ca80178e",
   "metadata": {},
   "outputs": [
    {
     "name": "stdout",
     "output_type": "stream",
     "text": [
      "[2 3 5 3] [2 3 4 5 3]\n",
      "<class 'numpy.ndarray'>\n",
      "<class 'numpy.ndarray'>\n"
     ]
    }
   ],
   "source": [
    "print(arr_list , arr_tup)\n",
    "print(type(arr_list))\n",
    "print(type(arr_tup))"
   ]
  },
  {
   "cell_type": "markdown",
   "id": "0ab87c63",
   "metadata": {},
   "source": [
    "> array dimentions"
   ]
  },
  {
   "cell_type": "code",
   "execution_count": 5,
   "id": "5ecea581",
   "metadata": {},
   "outputs": [],
   "source": [
    "arr_zero = np.array(14)\n",
    "arr_one = np.array([14,30,9,5])\n",
    "arr_two = np.array([[2,4,6],[1,3,5]])\n",
    "arr_three = np.array([[[1,2,3],[4,5,6]],[[10,20,30],[40,50,60]]])"
   ]
  },
  {
   "cell_type": "code",
   "execution_count": 6,
   "id": "5a762a18",
   "metadata": {},
   "outputs": [
    {
     "name": "stdout",
     "output_type": "stream",
     "text": [
      "0\n",
      "1\n",
      "2\n",
      "3\n"
     ]
    }
   ],
   "source": [
    "print(arr_zero.ndim)\n",
    "print(arr_one.ndim)\n",
    "print(arr_two.ndim)\n",
    "print(arr_three.ndim)\n"
   ]
  },
  {
   "cell_type": "code",
   "execution_count": 7,
   "id": "e8c8e302",
   "metadata": {},
   "outputs": [
    {
     "name": "stdout",
     "output_type": "stream",
     "text": [
      "[[[ 1  2  3]\n",
      "  [ 4  5  6]]\n",
      "\n",
      " [[10 20 30]\n",
      "  [40 50 60]]]\n"
     ]
    }
   ],
   "source": [
    "print(arr_three)"
   ]
  },
  {
   "cell_type": "markdown",
   "id": "50202794",
   "metadata": {},
   "source": [
    "> multi dimention array"
   ]
  },
  {
   "cell_type": "code",
   "execution_count": 8,
   "id": "f5b787dc",
   "metadata": {},
   "outputs": [
    {
     "name": "stdout",
     "output_type": "stream",
     "text": [
      "[[[[[1 2 3 4 5]]]]]\n",
      "5\n"
     ]
    }
   ],
   "source": [
    "arr_multi = np.array([1,2,3,4,5],ndmin=5)\n",
    "print(arr_multi)\n",
    "print(arr_multi.ndim)"
   ]
  },
  {
   "cell_type": "markdown",
   "id": "357dd1c1",
   "metadata": {},
   "source": [
    "## Access Array Elements"
   ]
  },
  {
   "cell_type": "code",
   "execution_count": 9,
   "id": "799f159e",
   "metadata": {},
   "outputs": [
    {
     "name": "stdout",
     "output_type": "stream",
     "text": [
      "[14 30  9  5]\n",
      "5\n",
      "44\n"
     ]
    }
   ],
   "source": [
    "print(arr_one)\n",
    "print(arr_one[3])\n",
    "print(arr_one[0]+arr_one[1])"
   ]
  },
  {
   "cell_type": "markdown",
   "id": "5fa9c061",
   "metadata": {},
   "source": [
    "> accessing 2D array"
   ]
  },
  {
   "cell_type": "code",
   "execution_count": 10,
   "id": "b76f621f",
   "metadata": {},
   "outputs": [
    {
     "name": "stdout",
     "output_type": "stream",
     "text": [
      "[[2 4 6]\n",
      " [1 3 5]]\n",
      "element at 2nd row and 3rd column is :  5\n"
     ]
    }
   ],
   "source": [
    "print(arr_two)\n",
    "print(\"element at 2nd row and 3rd column is : \",arr_two[1,2])"
   ]
  },
  {
   "cell_type": "code",
   "execution_count": 11,
   "id": "cccfde06",
   "metadata": {},
   "outputs": [
    {
     "name": "stdout",
     "output_type": "stream",
     "text": [
      "6\n"
     ]
    }
   ],
   "source": [
    "print(arr_two[-2,-1])"
   ]
  },
  {
   "cell_type": "markdown",
   "id": "5d6eabfa",
   "metadata": {},
   "source": [
    "> accessing 3D array"
   ]
  },
  {
   "cell_type": "code",
   "execution_count": 12,
   "id": "30461629",
   "metadata": {},
   "outputs": [
    {
     "name": "stdout",
     "output_type": "stream",
     "text": [
      "[[[ 1  2  3]\n",
      "  [ 4  5  6]]\n",
      "\n",
      " [[10 20 30]\n",
      "  [40 50 60]]]\n"
     ]
    }
   ],
   "source": [
    "print(arr_three)"
   ]
  },
  {
   "cell_type": "code",
   "execution_count": 13,
   "id": "d9cec94b",
   "metadata": {},
   "outputs": [
    {
     "name": "stdout",
     "output_type": "stream",
     "text": [
      " 1st element of 2nd array's 2nd array is :  40\n"
     ]
    }
   ],
   "source": [
    "print(\" 1st element of 2nd array's 2nd array is : \",arr_three[1,1,0])"
   ]
  },
  {
   "cell_type": "markdown",
   "id": "700c7852",
   "metadata": {},
   "source": [
    "## array slicing\n"
   ]
  },
  {
   "cell_type": "markdown",
   "id": "ffd2ec3d",
   "metadata": {},
   "source": [
    "> 1D array"
   ]
  },
  {
   "cell_type": "code",
   "execution_count": 14,
   "id": "3517d515",
   "metadata": {},
   "outputs": [
    {
     "name": "stdout",
     "output_type": "stream",
     "text": [
      "[14 30  9  5]\n",
      "[9 5]\n",
      "[14 30  9]\n"
     ]
    }
   ],
   "source": [
    "print(arr_one)\n",
    "print(arr_one[2:5])\n",
    "print(arr_one[-4:-1])"
   ]
  },
  {
   "cell_type": "code",
   "execution_count": 15,
   "id": "66ebee67",
   "metadata": {},
   "outputs": [
    {
     "name": "stdout",
     "output_type": "stream",
     "text": [
      "[1 3 5 7 9]\n"
     ]
    }
   ],
   "source": [
    "arr = np.array([1, 2, 3, 4, 5, 6, 7,8,9,10])\n",
    "\n",
    "print(arr[::2])"
   ]
  },
  {
   "cell_type": "markdown",
   "id": "d3ce1a71",
   "metadata": {},
   "source": [
    "> 2D array"
   ]
  },
  {
   "cell_type": "code",
   "execution_count": 16,
   "id": "98f76d67",
   "metadata": {},
   "outputs": [
    {
     "name": "stdout",
     "output_type": "stream",
     "text": [
      "[[2 4 6]\n",
      " [1 3 5]]\n"
     ]
    }
   ],
   "source": [
    "print(arr_two)"
   ]
  },
  {
   "cell_type": "code",
   "execution_count": 17,
   "id": "492d9ce8",
   "metadata": {},
   "outputs": [
    {
     "name": "stdout",
     "output_type": "stream",
     "text": [
      "[1 3 5]\n",
      "[1 3]\n"
     ]
    }
   ],
   "source": [
    "print(arr_two[1,0:])\n",
    "print(arr_two[1,0:2])\n"
   ]
  },
  {
   "cell_type": "code",
   "execution_count": 18,
   "id": "27c3d5f8",
   "metadata": {},
   "outputs": [
    {
     "name": "stdout",
     "output_type": "stream",
     "text": [
      "[6 5]\n"
     ]
    }
   ],
   "source": [
    "# from both element return 3rd element\n",
    "print(arr_two[0:2,2])"
   ]
  },
  {
   "cell_type": "code",
   "execution_count": 19,
   "id": "4e809dc7",
   "metadata": {},
   "outputs": [
    {
     "name": "stdout",
     "output_type": "stream",
     "text": [
      "[[2 4]\n",
      " [1 3]]\n"
     ]
    }
   ],
   "source": [
    "print(arr_two[0:,0:2])"
   ]
  },
  {
   "cell_type": "markdown",
   "id": "2d3b499c",
   "metadata": {},
   "source": [
    "## data types"
   ]
  },
  {
   "cell_type": "markdown",
   "id": "d8e9a26a",
   "metadata": {},
   "source": [
    "<pre>Below is a list of all data types in NumPy and the characters used to represent them.\n",
    "\n",
    "i - integer\n",
    "b - boolean\n",
    "u - unsigned integer\n",
    "f - float\n",
    "c - complex float\n",
    "m - timedelta\n",
    "M - datetime\n",
    "O - object\n",
    "S - string\n",
    "U - unicode string\n",
    "V - fixed chunk of memory for other type ( void )\n",
    "</pre>"
   ]
  },
  {
   "cell_type": "code",
   "execution_count": null,
   "id": "54b6b4be",
   "metadata": {},
   "outputs": [],
   "source": [
    "arr_int = arr_one\n",
    "arr_str = np.array([\"ram\",\"shayam\",\"hari\",\"vidya\",\"siya\"])"
   ]
  },
  {
   "cell_type": "code",
   "execution_count": null,
   "id": "c0475c65",
   "metadata": {},
   "outputs": [
    {
     "name": "stdout",
     "output_type": "stream",
     "text": [
      "<U6\n",
      "int64\n"
     ]
    }
   ],
   "source": [
    "print(arr_str.dtype)\n",
    "print(arr_int.dtype)"
   ]
  },
  {
   "cell_type": "code",
   "execution_count": 22,
   "id": "f0ed0569",
   "metadata": {},
   "outputs": [
    {
     "name": "stdout",
     "output_type": "stream",
     "text": [
      "|S1\n"
     ]
    }
   ],
   "source": [
    "arr_intstr = np.array([1,2,3,4,5],dtype='S')\n",
    "print(arr_intstr.dtype)"
   ]
  },
  {
   "cell_type": "markdown",
   "id": "742f5ae2",
   "metadata": {},
   "source": [
    "For i, u, f, S and U we can define size as well."
   ]
  },
  {
   "cell_type": "code",
   "execution_count": 23,
   "id": "16596518",
   "metadata": {},
   "outputs": [],
   "source": [
    "# create a datatype for 4bit integer\n",
    "arr_newint = np.array([1,2,3,4],dtype='i4')"
   ]
  },
  {
   "cell_type": "markdown",
   "id": "30623033",
   "metadata": {},
   "source": [
    "converting data type of existing array, best way is to make a copy of the array with the \"astype()\""
   ]
  },
  {
   "cell_type": "code",
   "execution_count": 24,
   "id": "74fb3f9a",
   "metadata": {},
   "outputs": [
    {
     "name": "stdout",
     "output_type": "stream",
     "text": [
      "[1.1 2.1 3.1]\n",
      "[1 2 3]\n",
      "int32\n"
     ]
    }
   ],
   "source": [
    "arr_float = np.array([1.1, 2.1, 3.1])\n",
    "floatarr = arr_float.astype('i')\n",
    "# floatarr = arr_float.astype(int)  # int can be done using int as an argument\n",
    "print(arr_float)\n",
    "print(floatarr)\n",
    "print(floatarr.dtype)\n"
   ]
  },
  {
   "cell_type": "code",
   "execution_count": 25,
   "id": "976b5d3f",
   "metadata": {},
   "outputs": [
    {
     "name": "stdout",
     "output_type": "stream",
     "text": [
      "[ True False  True  True]\n"
     ]
    }
   ],
   "source": [
    "print(np.array([1,0,3,5]).astype(bool))"
   ]
  },
  {
   "cell_type": "code",
   "execution_count": null,
   "id": "cb76370e",
   "metadata": {},
   "outputs": [],
   "source": []
  }
 ],
 "metadata": {
  "kernelspec": {
   "display_name": "Python 3",
   "language": "python",
   "name": "python3"
  },
  "language_info": {
   "codemirror_mode": {
    "name": "ipython",
    "version": 3
   },
   "file_extension": ".py",
   "mimetype": "text/x-python",
   "name": "python",
   "nbconvert_exporter": "python",
   "pygments_lexer": "ipython3",
   "version": "3.13.2"
  }
 },
 "nbformat": 4,
 "nbformat_minor": 5
}
