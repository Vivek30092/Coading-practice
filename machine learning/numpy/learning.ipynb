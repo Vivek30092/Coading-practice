{
 "cells": [
  {
   "cell_type": "code",
   "execution_count": 77,
   "id": "dbad0741",
   "metadata": {},
   "outputs": [],
   "source": [
    "import numpy as np"
   ]
  },
  {
   "cell_type": "code",
   "execution_count": 78,
   "id": "746ccfc2",
   "metadata": {},
   "outputs": [
    {
     "name": "stdout",
     "output_type": "stream",
     "text": [
      "[2 3 4 2 1]\n"
     ]
    }
   ],
   "source": [
    "arr = np.array([2,3,4,2,1])\n",
    "print(arr)"
   ]
  },
  {
   "cell_type": "code",
   "execution_count": 79,
   "id": "ce23fb66",
   "metadata": {},
   "outputs": [
    {
     "name": "stdout",
     "output_type": "stream",
     "text": [
      "first element: 2\n"
     ]
    }
   ],
   "source": [
    "print(\"first element:\",arr[0])"
   ]
  },
  {
   "cell_type": "code",
   "execution_count": 80,
   "id": "b7319464",
   "metadata": {},
   "outputs": [
    {
     "name": "stdout",
     "output_type": "stream",
     "text": [
      "[[1 2 3]\n",
      " [4 5 6]]\n"
     ]
    }
   ],
   "source": [
    "arr2 = np.array([[1,2,3],[4,5,6]])\n",
    "print(arr2)\n"
   ]
  },
  {
   "cell_type": "code",
   "execution_count": 81,
   "id": "4da7872b",
   "metadata": {},
   "outputs": [
    {
     "name": "stdout",
     "output_type": "stream",
     "text": [
      "1\n",
      "6\n"
     ]
    }
   ],
   "source": [
    "print(arr2[0][0])\n",
    "print(arr2[1][2])"
   ]
  },
  {
   "cell_type": "markdown",
   "id": "28523c9e",
   "metadata": {},
   "source": [
    "## finding dimention of the array"
   ]
  },
  {
   "cell_type": "code",
   "execution_count": 82,
   "id": "6a136eac",
   "metadata": {},
   "outputs": [
    {
     "name": "stdout",
     "output_type": "stream",
     "text": [
      "2\n"
     ]
    }
   ],
   "source": [
    "print(arr2.ndim)"
   ]
  },
  {
   "cell_type": "code",
   "execution_count": 83,
   "id": "ed2eee87",
   "metadata": {},
   "outputs": [
    {
     "name": "stdout",
     "output_type": "stream",
     "text": [
      "1\n"
     ]
    }
   ],
   "source": [
    "print(arr.ndim)"
   ]
  },
  {
   "cell_type": "markdown",
   "id": "d0da94b9",
   "metadata": {},
   "source": [
    "## negative indexing"
   ]
  },
  {
   "cell_type": "code",
   "execution_count": 84,
   "id": "d60150cd",
   "metadata": {},
   "outputs": [
    {
     "name": "stdout",
     "output_type": "stream",
     "text": [
      "[2 3 4 2 1]\n",
      "1\n"
     ]
    }
   ],
   "source": [
    "print(arr)\n",
    "print(arr[-1])"
   ]
  },
  {
   "cell_type": "code",
   "execution_count": 85,
   "id": "7912dce3",
   "metadata": {},
   "outputs": [
    {
     "name": "stdout",
     "output_type": "stream",
     "text": [
      "[[1 2 3]\n",
      " [4 5 6]]\n",
      "5\n"
     ]
    }
   ],
   "source": [
    "print(arr2)\n",
    "print(arr2[-1,-2])"
   ]
  },
  {
   "cell_type": "code",
   "execution_count": 86,
   "id": "22ee1cf4",
   "metadata": {},
   "outputs": [
    {
     "name": "stdout",
     "output_type": "stream",
     "text": [
      "6\n"
     ]
    }
   ],
   "source": [
    "print(arr2[1,-1])"
   ]
  },
  {
   "cell_type": "markdown",
   "id": "df942bbb",
   "metadata": {},
   "source": [
    "## array slicing"
   ]
  },
  {
   "cell_type": "code",
   "execution_count": 87,
   "id": "badfc3c6",
   "metadata": {},
   "outputs": [
    {
     "name": "stdout",
     "output_type": "stream",
     "text": [
      "[2 3 4 2 1]\n",
      "[2]\n",
      "[2 4]\n"
     ]
    }
   ],
   "source": [
    "print(arr)\n",
    "print(arr[0:1])\n",
    "print(arr[0:4:2])"
   ]
  },
  {
   "cell_type": "code",
   "execution_count": 89,
   "id": "d56f8e63",
   "metadata": {},
   "outputs": [
    {
     "name": "stdout",
     "output_type": "stream",
     "text": [
      "[[1 2 3]\n",
      " [4 5 6]]\n",
      "[[1 2 3]\n",
      " [4 5 6]]\n"
     ]
    }
   ],
   "source": [
    "print(arr2)\n",
    "print(arr2)"
   ]
  },
  {
   "cell_type": "markdown",
   "id": "d7059893",
   "metadata": {},
   "source": [
    "## data type of array"
   ]
  },
  {
   "cell_type": "code",
   "execution_count": 90,
   "id": "6617c838",
   "metadata": {},
   "outputs": [
    {
     "name": "stdout",
     "output_type": "stream",
     "text": [
      "int64\n"
     ]
    }
   ],
   "source": [
    "print(arr.dtype)"
   ]
  },
  {
   "cell_type": "markdown",
   "id": "f4e9b7e7",
   "metadata": {},
   "source": [
    "## copy operation on array"
   ]
  },
  {
   "cell_type": "code",
   "execution_count": 92,
   "id": "6e47d9ec",
   "metadata": {},
   "outputs": [
    {
     "name": "stdout",
     "output_type": "stream",
     "text": [
      "[2 3 4 2 1]\n"
     ]
    }
   ],
   "source": [
    "print(arr)"
   ]
  },
  {
   "cell_type": "code",
   "execution_count": 93,
   "id": "f52445b3",
   "metadata": {},
   "outputs": [],
   "source": [
    "X = arr.copy()"
   ]
  },
  {
   "cell_type": "code",
   "execution_count": 94,
   "id": "5f07ac56",
   "metadata": {},
   "outputs": [
    {
     "data": {
      "text/plain": [
       "array([ True,  True,  True,  True,  True])"
      ]
     },
     "execution_count": 94,
     "metadata": {},
     "output_type": "execute_result"
    }
   ],
   "source": [
    "arr==X"
   ]
  },
  {
   "cell_type": "markdown",
   "id": "60e7c271",
   "metadata": {},
   "source": [
    "## iteration of 1D array"
   ]
  },
  {
   "cell_type": "code",
   "execution_count": 95,
   "id": "f6664c91",
   "metadata": {},
   "outputs": [
    {
     "name": "stdout",
     "output_type": "stream",
     "text": [
      "2\n",
      "3\n",
      "4\n",
      "2\n",
      "1\n"
     ]
    }
   ],
   "source": [
    "for _ in arr:\n",
    "    print(_)"
   ]
  },
  {
   "cell_type": "markdown",
   "id": "77d8e5c6",
   "metadata": {},
   "source": [
    "## iteration of 2D array"
   ]
  },
  {
   "cell_type": "code",
   "execution_count": 96,
   "id": "733e0ffa",
   "metadata": {},
   "outputs": [
    {
     "name": "stdout",
     "output_type": "stream",
     "text": [
      "[[1 2 3]\n",
      " [4 5 6]]\n"
     ]
    }
   ],
   "source": [
    "print(arr2)"
   ]
  },
  {
   "cell_type": "code",
   "execution_count": 97,
   "id": "558c3a95",
   "metadata": {},
   "outputs": [
    {
     "name": "stdout",
     "output_type": "stream",
     "text": [
      "[1 2 3]\n",
      "[4 5 6]\n"
     ]
    }
   ],
   "source": [
    "for _ in arr2:\n",
    "    print(_)"
   ]
  },
  {
   "cell_type": "markdown",
   "id": "5a025898",
   "metadata": {},
   "source": [
    "## print and display shape of an array"
   ]
  },
  {
   "cell_type": "code",
   "execution_count": 98,
   "id": "13b41a59",
   "metadata": {},
   "outputs": [
    {
     "name": "stdout",
     "output_type": "stream",
     "text": [
      "(2, 3)\n"
     ]
    }
   ],
   "source": [
    "print(arr2.shape)   ## two rows and 3 columns"
   ]
  },
  {
   "cell_type": "markdown",
   "id": "18a9e8bd",
   "metadata": {},
   "source": [
    "## reshaping 1D array to 2D "
   ]
  },
  {
   "cell_type": "code",
   "execution_count": 112,
   "id": "4232ef27",
   "metadata": {},
   "outputs": [
    {
     "name": "stdout",
     "output_type": "stream",
     "text": [
      "[ 1  2  3  4  5  6  7  8  9 10 11 12]\n"
     ]
    }
   ],
   "source": [
    "new_arr = np.array([1,2,3,4,5,6,7,8,9,10,11,12])\n",
    "print(new_arr)"
   ]
  },
  {
   "cell_type": "code",
   "execution_count": 113,
   "id": "97171b8c",
   "metadata": {},
   "outputs": [
    {
     "name": "stdout",
     "output_type": "stream",
     "text": [
      "[[ 1  2  3  4]\n",
      " [ 5  6  7  8]\n",
      " [ 9 10 11 12]]\n"
     ]
    }
   ],
   "source": [
    "b = new_arr.reshape(3,4)\n",
    "print(b)"
   ]
  },
  {
   "cell_type": "markdown",
   "id": "4db09775",
   "metadata": {},
   "source": [
    "## joining two array"
   ]
  },
  {
   "cell_type": "code",
   "execution_count": 114,
   "id": "d6227418",
   "metadata": {},
   "outputs": [
    {
     "name": "stdout",
     "output_type": "stream",
     "text": [
      "[2 3 4 2 1]\n",
      "[ 1  2  3  4  5  6  7  8  9 10 11 12]\n"
     ]
    }
   ],
   "source": [
    "print(arr)\n",
    "print(new_arr)"
   ]
  },
  {
   "cell_type": "code",
   "execution_count": 131,
   "id": "db736e96",
   "metadata": {},
   "outputs": [
    {
     "name": "stdout",
     "output_type": "stream",
     "text": [
      "[ 2  3  4  2  1  1  2  3  4  5  6  7  8  9 10 11 12]\n"
     ]
    }
   ],
   "source": [
    "arr1 = np.concatenate((arr,new_arr))\n",
    "print(arr1)"
   ]
  },
  {
   "cell_type": "markdown",
   "id": "8b7f4727",
   "metadata": {},
   "source": [
    "## splitting an arrays"
   ]
  },
  {
   "cell_type": "code",
   "execution_count": 132,
   "id": "46ec18ba",
   "metadata": {},
   "outputs": [
    {
     "data": {
      "text/plain": [
       "[array([ 2,  3,  4,  2,  1,  1,  2,  3,  4,  5,  6,  7,  8,  9, 10, 11, 12])]"
      ]
     },
     "execution_count": 132,
     "metadata": {},
     "output_type": "execute_result"
    }
   ],
   "source": [
    "arr1 = np.array_split(arr1,1)\n",
    "arr1"
   ]
  },
  {
   "cell_type": "markdown",
   "id": "f1c9e68b",
   "metadata": {},
   "source": [
    "## sorting array"
   ]
  },
  {
   "cell_type": "code",
   "execution_count": 134,
   "id": "13eb51f1",
   "metadata": {},
   "outputs": [
    {
     "name": "stdout",
     "output_type": "stream",
     "text": [
      "[array([ 2,  3,  4,  2,  1,  1,  2,  3,  4,  5,  6,  7,  8,  9, 10, 11, 12])]\n",
      "[[ 1  1  2  2  2  3  3  4  4  5  6  7  8  9 10 11 12]]\n"
     ]
    }
   ],
   "source": [
    "print(arr1)\n",
    "print(np.sort(arr1))"
   ]
  },
  {
   "cell_type": "code",
   "execution_count": 136,
   "id": "da8d8279",
   "metadata": {},
   "outputs": [
    {
     "name": "stdout",
     "output_type": "stream",
     "text": [
      "['bat' 'cat' 'vivek']\n"
     ]
    }
   ],
   "source": [
    "string_arr = np.array(['cat','bat','vivek'])\n",
    "print(np.sort(string_arr))"
   ]
  },
  {
   "cell_type": "code",
   "execution_count": null,
   "id": "13f109ef",
   "metadata": {},
   "outputs": [
    {
     "name": "stdout",
     "output_type": "stream",
     "text": [
      "[[1 2 3]\n",
      " [4 5 6]]\n"
     ]
    }
   ],
   "source": [
    "print(arr2)"
   ]
  },
  {
   "cell_type": "code",
   "execution_count": 142,
   "id": "78e2d4e7",
   "metadata": {},
   "outputs": [
    {
     "name": "stdout",
     "output_type": "stream",
     "text": [
      "[[ 2 30  5 23]\n",
      " [ 5  4  1 14]]\n",
      "[[ 2  5 23 30]\n",
      " [ 1  4  5 14]]\n"
     ]
    }
   ],
   "source": [
    "new_arr2 = np.array([[2,30,5,23],[5,4,1,14]])\n",
    "print(new_arr2)\n",
    "print(np.sort(new_arr2))"
   ]
  },
  {
   "cell_type": "markdown",
   "id": "fe0d24c4",
   "metadata": {},
   "source": [
    "## searching in array"
   ]
  },
  {
   "cell_type": "code",
   "execution_count": 144,
   "id": "f0c6bdc9",
   "metadata": {},
   "outputs": [
    {
     "name": "stdout",
     "output_type": "stream",
     "text": [
      "[ 1  2  3  4  5  6  7  8  9 10 11 12]\n"
     ]
    }
   ],
   "source": [
    "print(new_arr)"
   ]
  },
  {
   "cell_type": "code",
   "execution_count": 151,
   "id": "539caf5d",
   "metadata": {},
   "outputs": [
    {
     "name": "stdout",
     "output_type": "stream",
     "text": [
      "(array([9]),)\n"
     ]
    }
   ],
   "source": [
    "search = np.where(new_arr==10)\n",
    "print(search)"
   ]
  },
  {
   "cell_type": "code",
   "execution_count": 152,
   "id": "d5ae8ea5",
   "metadata": {},
   "outputs": [
    {
     "name": "stdout",
     "output_type": "stream",
     "text": [
      "(array([ 1,  3,  5,  7,  9, 11]),)\n"
     ]
    }
   ],
   "source": [
    "even = np.where(new_arr%2==0)\n",
    "print(even)"
   ]
  },
  {
   "cell_type": "markdown",
   "id": "9da9a8d8",
   "metadata": {},
   "source": [
    "## random number\n"
   ]
  },
  {
   "cell_type": "code",
   "execution_count": 153,
   "id": "334802a7",
   "metadata": {},
   "outputs": [],
   "source": [
    "from numpy import random"
   ]
  },
  {
   "cell_type": "code",
   "execution_count": 193,
   "id": "e832471a",
   "metadata": {},
   "outputs": [
    {
     "name": "stdout",
     "output_type": "stream",
     "text": [
      "92\n"
     ]
    }
   ],
   "source": [
    "x = random.randint(100)\n",
    "print(x)"
   ]
  },
  {
   "cell_type": "markdown",
   "id": "b904a1ab",
   "metadata": {},
   "source": [
    "## generation random array"
   ]
  },
  {
   "cell_type": "code",
   "execution_count": 199,
   "id": "4712548f",
   "metadata": {},
   "outputs": [
    {
     "name": "stdout",
     "output_type": "stream",
     "text": [
      "[43 57 45 22 97]\n"
     ]
    }
   ],
   "source": [
    "random_arr = random.randint(100,size=(5))\n",
    "print(random_arr)"
   ]
  }
 ],
 "metadata": {
  "kernelspec": {
   "display_name": "Python 3",
   "language": "python",
   "name": "python3"
  },
  "language_info": {
   "codemirror_mode": {
    "name": "ipython",
    "version": 3
   },
   "file_extension": ".py",
   "mimetype": "text/x-python",
   "name": "python",
   "nbconvert_exporter": "python",
   "pygments_lexer": "ipython3",
   "version": "3.13.2"
  }
 },
 "nbformat": 4,
 "nbformat_minor": 5
}
