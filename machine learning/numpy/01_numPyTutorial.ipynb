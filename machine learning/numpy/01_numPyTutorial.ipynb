{
 "cells": [
  {
   "cell_type": "code",
   "execution_count": 2,
   "id": "9401cdc0",
   "metadata": {},
   "outputs": [],
   "source": [
    "import numpy as np"
   ]
  },
  {
   "cell_type": "code",
   "execution_count": 3,
   "id": "78017101",
   "metadata": {},
   "outputs": [],
   "source": [
    "arr_list = np.array([2,3,5,3])\n",
    "arr_tup = np.array((2,3,4,5,3))"
   ]
  },
  {
   "cell_type": "code",
   "execution_count": 4,
   "id": "ca80178e",
   "metadata": {},
   "outputs": [
    {
     "name": "stdout",
     "output_type": "stream",
     "text": [
      "[2 3 5 3] [2 3 4 5 3]\n",
      "<class 'numpy.ndarray'>\n",
      "<class 'numpy.ndarray'>\n"
     ]
    }
   ],
   "source": [
    "print(arr_list , arr_tup)\n",
    "print(type(arr_list))\n",
    "print(type(arr_tup))"
   ]
  },
  {
   "cell_type": "markdown",
   "id": "0ab87c63",
   "metadata": {},
   "source": [
    "> array dimentions"
   ]
  },
  {
   "cell_type": "code",
   "execution_count": 5,
   "id": "5ecea581",
   "metadata": {},
   "outputs": [],
   "source": [
    "arr_zero = np.array(14)\n",
    "arr_one = np.array([14,30,9,5])\n",
    "arr_two = np.array([[2,4,6],[1,3,5]])\n",
    "arr_three = np.array([[[1,2,3],[4,5,6]],[[10,20,30],[40,50,60]]])"
   ]
  },
  {
   "cell_type": "code",
   "execution_count": 6,
   "id": "5a762a18",
   "metadata": {},
   "outputs": [
    {
     "name": "stdout",
     "output_type": "stream",
     "text": [
      "0\n",
      "1\n",
      "2\n",
      "3\n"
     ]
    }
   ],
   "source": [
    "print(arr_zero.ndim)\n",
    "print(arr_one.ndim)\n",
    "print(arr_two.ndim)\n",
    "print(arr_three.ndim)\n"
   ]
  },
  {
   "cell_type": "code",
   "execution_count": 7,
   "id": "e8c8e302",
   "metadata": {},
   "outputs": [
    {
     "name": "stdout",
     "output_type": "stream",
     "text": [
      "[[[ 1  2  3]\n",
      "  [ 4  5  6]]\n",
      "\n",
      " [[10 20 30]\n",
      "  [40 50 60]]]\n"
     ]
    }
   ],
   "source": [
    "print(arr_three)"
   ]
  },
  {
   "cell_type": "markdown",
   "id": "50202794",
   "metadata": {},
   "source": [
    "> multi dimention array"
   ]
  },
  {
   "cell_type": "code",
   "execution_count": 8,
   "id": "f5b787dc",
   "metadata": {},
   "outputs": [
    {
     "name": "stdout",
     "output_type": "stream",
     "text": [
      "[[[[[1 2 3 4 5]]]]]\n",
      "5\n"
     ]
    }
   ],
   "source": [
    "arr_multi = np.array([1,2,3,4,5],ndmin=5)\n",
    "print(arr_multi)\n",
    "print(arr_multi.ndim)"
   ]
  },
  {
   "cell_type": "markdown",
   "id": "357dd1c1",
   "metadata": {},
   "source": [
    "## Access Array Elements"
   ]
  },
  {
   "cell_type": "code",
   "execution_count": 9,
   "id": "799f159e",
   "metadata": {},
   "outputs": [
    {
     "name": "stdout",
     "output_type": "stream",
     "text": [
      "[14 30  9  5]\n",
      "5\n",
      "44\n"
     ]
    }
   ],
   "source": [
    "print(arr_one)\n",
    "print(arr_one[3])\n",
    "print(arr_one[0]+arr_one[1])"
   ]
  },
  {
   "cell_type": "markdown",
   "id": "5fa9c061",
   "metadata": {},
   "source": [
    "> accessing 2D array"
   ]
  },
  {
   "cell_type": "code",
   "execution_count": 10,
   "id": "b76f621f",
   "metadata": {},
   "outputs": [
    {
     "name": "stdout",
     "output_type": "stream",
     "text": [
      "[[2 4 6]\n",
      " [1 3 5]]\n",
      "element at 2nd row and 3rd column is :  5\n"
     ]
    }
   ],
   "source": [
    "print(arr_two)\n",
    "print(\"element at 2nd row and 3rd column is : \",arr_two[1,2])"
   ]
  },
  {
   "cell_type": "code",
   "execution_count": 11,
   "id": "cccfde06",
   "metadata": {},
   "outputs": [
    {
     "name": "stdout",
     "output_type": "stream",
     "text": [
      "6\n"
     ]
    }
   ],
   "source": [
    "print(arr_two[-2,-1])"
   ]
  },
  {
   "cell_type": "markdown",
   "id": "5d6eabfa",
   "metadata": {},
   "source": [
    "> accessing 3D array"
   ]
  },
  {
   "cell_type": "code",
   "execution_count": 12,
   "id": "30461629",
   "metadata": {},
   "outputs": [
    {
     "name": "stdout",
     "output_type": "stream",
     "text": [
      "[[[ 1  2  3]\n",
      "  [ 4  5  6]]\n",
      "\n",
      " [[10 20 30]\n",
      "  [40 50 60]]]\n"
     ]
    }
   ],
   "source": [
    "print(arr_three)"
   ]
  },
  {
   "cell_type": "code",
   "execution_count": 13,
   "id": "d9cec94b",
   "metadata": {},
   "outputs": [
    {
     "name": "stdout",
     "output_type": "stream",
     "text": [
      " 1st element of 2nd array's 2nd array is :  40\n"
     ]
    }
   ],
   "source": [
    "print(\" 1st element of 2nd array's 2nd array is : \",arr_three[1,1,0])"
   ]
  },
  {
   "cell_type": "markdown",
   "id": "700c7852",
   "metadata": {},
   "source": [
    "## array slicing\n"
   ]
  },
  {
   "cell_type": "markdown",
   "id": "ffd2ec3d",
   "metadata": {},
   "source": [
    "> 1D array"
   ]
  },
  {
   "cell_type": "code",
   "execution_count": 14,
   "id": "3517d515",
   "metadata": {},
   "outputs": [
    {
     "name": "stdout",
     "output_type": "stream",
     "text": [
      "[14 30  9  5]\n",
      "[9 5]\n",
      "[14 30  9]\n"
     ]
    }
   ],
   "source": [
    "print(arr_one)\n",
    "print(arr_one[2:5])\n",
    "print(arr_one[-4:-1])"
   ]
  },
  {
   "cell_type": "code",
   "execution_count": 15,
   "id": "66ebee67",
   "metadata": {},
   "outputs": [
    {
     "name": "stdout",
     "output_type": "stream",
     "text": [
      "[1 3 5 7 9]\n"
     ]
    }
   ],
   "source": [
    "arr = np.array([1, 2, 3, 4, 5, 6, 7,8,9,10])\n",
    "\n",
    "print(arr[::2])"
   ]
  },
  {
   "cell_type": "markdown",
   "id": "d3ce1a71",
   "metadata": {},
   "source": [
    "> 2D array"
   ]
  },
  {
   "cell_type": "code",
   "execution_count": 16,
   "id": "98f76d67",
   "metadata": {},
   "outputs": [
    {
     "name": "stdout",
     "output_type": "stream",
     "text": [
      "[[2 4 6]\n",
      " [1 3 5]]\n"
     ]
    }
   ],
   "source": [
    "print(arr_two)"
   ]
  },
  {
   "cell_type": "code",
   "execution_count": 17,
   "id": "492d9ce8",
   "metadata": {},
   "outputs": [
    {
     "name": "stdout",
     "output_type": "stream",
     "text": [
      "[1 3 5]\n",
      "[1 3]\n"
     ]
    }
   ],
   "source": [
    "print(arr_two[1,0:])\n",
    "print(arr_two[1,0:2])\n"
   ]
  },
  {
   "cell_type": "code",
   "execution_count": 18,
   "id": "27c3d5f8",
   "metadata": {},
   "outputs": [
    {
     "name": "stdout",
     "output_type": "stream",
     "text": [
      "[6 5]\n"
     ]
    }
   ],
   "source": [
    "# from both element return 3rd element\n",
    "print(arr_two[0:2,2])"
   ]
  },
  {
   "cell_type": "code",
   "execution_count": 19,
   "id": "4e809dc7",
   "metadata": {},
   "outputs": [
    {
     "name": "stdout",
     "output_type": "stream",
     "text": [
      "[[2 4]\n",
      " [1 3]]\n"
     ]
    }
   ],
   "source": [
    "print(arr_two[0:,0:2])"
   ]
  },
  {
   "cell_type": "markdown",
   "id": "2d3b499c",
   "metadata": {},
   "source": [
    "## data types"
   ]
  },
  {
   "cell_type": "markdown",
   "id": "d8e9a26a",
   "metadata": {},
   "source": [
    "<pre>Below is a list of all data types in NumPy and the characters used to represent them.\n",
    "\n",
    "i - integer\n",
    "b - boolean\n",
    "u - unsigned integer\n",
    "f - float\n",
    "c - complex float\n",
    "m - timedelta\n",
    "M - datetime\n",
    "O - object\n",
    "S - string\n",
    "U - unicode string\n",
    "V - fixed chunk of memory for other type ( void )\n",
    "</pre>"
   ]
  },
  {
   "cell_type": "code",
   "execution_count": 20,
   "id": "54b6b4be",
   "metadata": {},
   "outputs": [],
   "source": [
    "arr_int = arr_one\n",
    "arr_str = np.array([\"ram\",\"shayam\",\"hari\",\"vidya\",\"siya\"])"
   ]
  },
  {
   "cell_type": "code",
   "execution_count": 21,
   "id": "c0475c65",
   "metadata": {},
   "outputs": [
    {
     "name": "stdout",
     "output_type": "stream",
     "text": [
      "<U6\n",
      "int64\n"
     ]
    }
   ],
   "source": [
    "print(arr_str.dtype)\n",
    "print(arr_int.dtype)"
   ]
  },
  {
   "cell_type": "code",
   "execution_count": 22,
   "id": "f0ed0569",
   "metadata": {},
   "outputs": [
    {
     "name": "stdout",
     "output_type": "stream",
     "text": [
      "|S1\n"
     ]
    }
   ],
   "source": [
    "arr_intstr = np.array([1,2,3,4,5],dtype='S')\n",
    "print(arr_intstr.dtype)"
   ]
  },
  {
   "cell_type": "markdown",
   "id": "742f5ae2",
   "metadata": {},
   "source": [
    "For i, u, f, S and U we can define size as well."
   ]
  },
  {
   "cell_type": "code",
   "execution_count": 23,
   "id": "16596518",
   "metadata": {},
   "outputs": [],
   "source": [
    "# create a datatype for 4bit integer\n",
    "arr_newint = np.array([1,2,3,4],dtype='i4')"
   ]
  },
  {
   "cell_type": "markdown",
   "id": "30623033",
   "metadata": {},
   "source": [
    "converting data type of existing array, best way is to make a copy of the array with the \"astype()\""
   ]
  },
  {
   "cell_type": "code",
   "execution_count": 24,
   "id": "74fb3f9a",
   "metadata": {},
   "outputs": [
    {
     "name": "stdout",
     "output_type": "stream",
     "text": [
      "[1.1 2.1 3.1]\n",
      "[1 2 3]\n",
      "int32\n"
     ]
    }
   ],
   "source": [
    "arr_float = np.array([1.1, 2.1, 3.1])\n",
    "floatarr = arr_float.astype('i')\n",
    "# floatarr = arr_float.astype(int)  # int can be done using int as an argument\n",
    "print(arr_float)\n",
    "print(floatarr)\n",
    "print(floatarr.dtype)\n"
   ]
  },
  {
   "cell_type": "code",
   "execution_count": 25,
   "id": "976b5d3f",
   "metadata": {},
   "outputs": [
    {
     "name": "stdout",
     "output_type": "stream",
     "text": [
      "[ True False  True  True]\n"
     ]
    }
   ],
   "source": [
    "print(np.array([1,0,3,5]).astype(bool))"
   ]
  },
  {
   "cell_type": "markdown",
   "id": "ee9bf3f9",
   "metadata": {},
   "source": [
    "# Array copy vs View\n"
   ]
  },
  {
   "cell_type": "markdown",
   "id": "869fa05a",
   "metadata": {},
   "source": [
    "The main difference between a copy and a view of an array is that the copy is a new array, and the view is just a view of the original array.\n",
    "\n",
    "The copy owns the data and any changes made to the copy will not affect original array, and any changes made to the original array will not affect the copy.\n",
    "\n",
    "The view does not own the data and any changes made to the view will affect the original array, and any changes made to the original array will affect the view."
   ]
  },
  {
   "cell_type": "markdown",
   "id": "7c33ed01",
   "metadata": {},
   "source": [
    "> copy"
   ]
  },
  {
   "cell_type": "code",
   "execution_count": 38,
   "id": "351b932f",
   "metadata": {},
   "outputs": [
    {
     "name": "stdout",
     "output_type": "stream",
     "text": [
      "[14 30  9  5]\n",
      "[14 30 10  5]\n"
     ]
    }
   ],
   "source": [
    "x = arr_one.copy()\n",
    "arr_one[2] = 9\n",
    "\n",
    "print(arr_one)\n",
    "print(x)"
   ]
  },
  {
   "cell_type": "markdown",
   "id": "d7a6f240",
   "metadata": {},
   "source": [
    "> view"
   ]
  },
  {
   "cell_type": "code",
   "execution_count": 42,
   "id": "f2016e09",
   "metadata": {},
   "outputs": [
    {
     "name": "stdout",
     "output_type": "stream",
     "text": [
      "[14 30  9  5]\n",
      "[14 30  9  5]\n"
     ]
    }
   ],
   "source": [
    "y = arr_one.view()\n",
    "arr_one[3] = 5\n",
    "\n",
    "print(arr_one)\n",
    "print(y)"
   ]
  },
  {
   "cell_type": "markdown",
   "id": "17778b95",
   "metadata": {},
   "source": [
    "> Check if Array Owns its Data\n"
   ]
  },
  {
   "cell_type": "markdown",
   "id": "e0334d39",
   "metadata": {},
   "source": [
    "As mentioned above, copies `owns` the data, and views does not own the data, but how can we check this?\n",
    "\n",
    "Every NumPy array has the attribute `base` that returns `None` if the array owns the data.\n",
    "\n",
    "Otherwise, the base  attribute refers to the original object."
   ]
  },
  {
   "cell_type": "code",
   "execution_count": 44,
   "id": "5a09a3b2",
   "metadata": {},
   "outputs": [
    {
     "name": "stdout",
     "output_type": "stream",
     "text": [
      "None\n",
      "[14 30  9  5]\n"
     ]
    }
   ],
   "source": [
    "print(x.base)\n",
    "print(y.base)"
   ]
  },
  {
   "cell_type": "markdown",
   "id": "fc472bc7",
   "metadata": {},
   "source": [
    "# numPy array shape"
   ]
  },
  {
   "cell_type": "code",
   "execution_count": 46,
   "id": "0bd8f2e6",
   "metadata": {},
   "outputs": [
    {
     "name": "stdout",
     "output_type": "stream",
     "text": [
      "(4,)\n",
      "(2, 3)\n"
     ]
    }
   ],
   "source": [
    "print(arr_one.shape)\n",
    "print(arr_two.shape)"
   ]
  },
  {
   "cell_type": "code",
   "execution_count": 48,
   "id": "883539c5",
   "metadata": {},
   "outputs": [
    {
     "name": "stdout",
     "output_type": "stream",
     "text": [
      "(1, 1, 1, 1, 6)\n"
     ]
    }
   ],
   "source": [
    "test_arr = np.array([1,2,4,5,3,3],ndmin=5)\n",
    "print(test_arr.shape)"
   ]
  },
  {
   "cell_type": "markdown",
   "id": "920b0bca",
   "metadata": {},
   "source": [
    "# Array Reshaping"
   ]
  },
  {
   "cell_type": "markdown",
   "id": "4fe756e8",
   "metadata": {},
   "source": [
    ">1D to 2D"
   ]
  },
  {
   "cell_type": "code",
   "execution_count": 50,
   "id": "41e85eed",
   "metadata": {},
   "outputs": [
    {
     "name": "stdout",
     "output_type": "stream",
     "text": [
      "[[14 30]\n",
      " [ 9  5]]\n"
     ]
    }
   ],
   "source": [
    "newarr = arr_one.reshape(2,2)\n",
    "print(newarr)"
   ]
  },
  {
   "cell_type": "markdown",
   "id": "1ab8de15",
   "metadata": {},
   "source": [
    "> 1D to 3D"
   ]
  },
  {
   "cell_type": "code",
   "execution_count": 53,
   "id": "97586060",
   "metadata": {},
   "outputs": [
    {
     "name": "stdout",
     "output_type": "stream",
     "text": [
      "[[[14 30  9  5]]]\n"
     ]
    },
    {
     "data": {
      "text/plain": [
       "array([14, 30,  9,  5])"
      ]
     },
     "execution_count": 53,
     "metadata": {},
     "output_type": "execute_result"
    }
   ],
   "source": [
    "newarr1 = arr_one.reshape(1,1,4)\n",
    "print(newarr1)\n",
    "newarr1.base"
   ]
  },
  {
   "cell_type": "markdown",
   "id": "bae642ae",
   "metadata": {},
   "source": [
    "> Unknownn dimension"
   ]
  },
  {
   "cell_type": "markdown",
   "id": "0575ab09",
   "metadata": {},
   "source": [
    "we can create one `unknown` dimension by pass -1 as the value to one of the dimensions in the reshape method"
   ]
  },
  {
   "cell_type": "code",
   "execution_count": 65,
   "id": "7194def6",
   "metadata": {},
   "outputs": [
    {
     "name": "stdout",
     "output_type": "stream",
     "text": [
      "[[[14]\n",
      "  [30]]\n",
      "\n",
      " [[ 9]\n",
      "  [ 5]]]\n"
     ]
    }
   ],
   "source": [
    "newarr = arr_one.reshape(2,2,-1)\n",
    "print(newarr)\n",
    "\n"
   ]
  },
  {
   "cell_type": "markdown",
   "id": "79c21251",
   "metadata": {},
   "source": [
    "we can't pass -1 to more than one dimension"
   ]
  },
  {
   "cell_type": "markdown",
   "id": "7c8e0898",
   "metadata": {},
   "source": [
    "> Flattening the array"
   ]
  },
  {
   "cell_type": "markdown",
   "id": "0bdfe9f6",
   "metadata": {},
   "source": [
    "converting array into 1D"
   ]
  },
  {
   "cell_type": "code",
   "execution_count": 66,
   "id": "c8ae512d",
   "metadata": {},
   "outputs": [
    {
     "data": {
      "text/plain": [
       "array([ 1,  2,  3,  4,  5,  6, 10, 20, 30, 40, 50, 60])"
      ]
     },
     "execution_count": 66,
     "metadata": {},
     "output_type": "execute_result"
    }
   ],
   "source": [
    "arr_three.reshape(-1)"
   ]
  },
  {
   "cell_type": "markdown",
   "id": "09cf79ae",
   "metadata": {},
   "source": [
    "# NumPy Array Iteration"
   ]
  },
  {
   "cell_type": "markdown",
   "id": "cb1411c7",
   "metadata": {},
   "source": [
    ">1D array"
   ]
  },
  {
   "cell_type": "code",
   "execution_count": 67,
   "id": "a79a7892",
   "metadata": {},
   "outputs": [
    {
     "name": "stdout",
     "output_type": "stream",
     "text": [
      "14\n",
      "30\n",
      "9\n",
      "5\n"
     ]
    }
   ],
   "source": [
    "for _ in arr_one:\n",
    "    print(_)"
   ]
  },
  {
   "cell_type": "markdown",
   "id": "40027ea3",
   "metadata": {},
   "source": [
    "If we iterate on a n-D array it will go through n-1th dimension one by one."
   ]
  },
  {
   "cell_type": "markdown",
   "id": "909ac384",
   "metadata": {},
   "source": [
    ">2D array"
   ]
  },
  {
   "cell_type": "code",
   "execution_count": 74,
   "id": "ba312bcb",
   "metadata": {},
   "outputs": [
    {
     "name": "stdout",
     "output_type": "stream",
     "text": [
      "[2 4 6]\n",
      "[1 3 5]\n"
     ]
    }
   ],
   "source": [
    "for _ in arr_two:\n",
    "    print(_)"
   ]
  },
  {
   "cell_type": "markdown",
   "id": "89aaeb4d",
   "metadata": {},
   "source": [
    "<p> iterating each scaler element of 2D array</p>"
   ]
  },
  {
   "cell_type": "code",
   "execution_count": 73,
   "id": "1df30196",
   "metadata": {},
   "outputs": [
    {
     "name": "stdout",
     "output_type": "stream",
     "text": [
      "[[2 4 6]\n",
      " [1 3 5]]\n",
      "2\n",
      "4\n",
      "6\n",
      "1\n",
      "3\n",
      "5\n"
     ]
    }
   ],
   "source": [
    "print(arr_two)\n",
    "for i in arr_two:\n",
    "    for j in i:\n",
    "        print(j)"
   ]
  },
  {
   "cell_type": "markdown",
   "id": "8fb29300",
   "metadata": {},
   "source": [
    "> 3D array"
   ]
  },
  {
   "cell_type": "code",
   "execution_count": 75,
   "id": "19206108",
   "metadata": {},
   "outputs": [
    {
     "name": "stdout",
     "output_type": "stream",
     "text": [
      "[[1 2 3]\n",
      " [4 5 6]]\n",
      "[[10 20 30]\n",
      " [40 50 60]]\n"
     ]
    }
   ],
   "source": [
    "for _ in arr_three:\n",
    "    print(_)"
   ]
  },
  {
   "cell_type": "markdown",
   "id": "da998204",
   "metadata": {},
   "source": [
    "<p> to return the actual value</p>"
   ]
  },
  {
   "cell_type": "code",
   "execution_count": 76,
   "id": "ba213536",
   "metadata": {},
   "outputs": [
    {
     "name": "stdout",
     "output_type": "stream",
     "text": [
      "1\n",
      "2\n",
      "3\n",
      "4\n",
      "5\n",
      "6\n",
      "10\n",
      "20\n",
      "30\n",
      "40\n",
      "50\n",
      "60\n"
     ]
    }
   ],
   "source": [
    "for x in arr_three:\n",
    "    for y in x:\n",
    "        for z in y:\n",
    "            print(z)"
   ]
  },
  {
   "cell_type": "markdown",
   "id": "90a08b50",
   "metadata": {},
   "source": [
    ">> Iterating Array using `nditer()`"
   ]
  },
  {
   "cell_type": "markdown",
   "id": "93e8d807",
   "metadata": {},
   "source": [
    "> 3D array iteration"
   ]
  },
  {
   "cell_type": "code",
   "execution_count": 77,
   "id": "447ae691",
   "metadata": {},
   "outputs": [
    {
     "name": "stdout",
     "output_type": "stream",
     "text": [
      "1\n",
      "2\n",
      "3\n",
      "4\n",
      "5\n",
      "6\n",
      "10\n",
      "20\n",
      "30\n",
      "40\n",
      "50\n",
      "60\n"
     ]
    }
   ],
   "source": [
    "for x in np.nditer(arr_three):\n",
    "    print(x)"
   ]
  },
  {
   "cell_type": "markdown",
   "id": "6ae90bf6",
   "metadata": {},
   "source": [
    "> Iterating Array with Different Data Types"
   ]
  },
  {
   "cell_type": "markdown",
   "id": "215b9911",
   "metadata": {},
   "source": [
    "We can use `op_dtypes` argument and pass it the expected datatype to change the datatype of elements while iterating.\n",
    "\n",
    "NumPy does not change the data type of the element in-place (where the element is in array) so it needs some other space to perform this action, that extra space is called buffer, and in order to enable it in `nditer()` we pass flags=`['buffered']`."
   ]
  },
  {
   "cell_type": "code",
   "execution_count": 83,
   "id": "3ac4b7cf",
   "metadata": {},
   "outputs": [
    {
     "name": "stdout",
     "output_type": "stream",
     "text": [
      "np.bytes_(b'14')\n",
      "np.bytes_(b'30')\n",
      "np.bytes_(b'9')\n",
      "np.bytes_(b'5')\n"
     ]
    }
   ],
   "source": [
    "for x in np.nditer(arr_one,flags=['buffered'],op_dtypes=['S']):\n",
    "    print(x)"
   ]
  },
  {
   "cell_type": "markdown",
   "id": "3c55a671",
   "metadata": {},
   "source": [
    "> Iterating With Different Step Size\n"
   ]
  },
  {
   "cell_type": "markdown",
   "id": "be95b4b0",
   "metadata": {},
   "source": [
    "Iterate through every scalar element of the 2D array skipping 1 element:"
   ]
  },
  {
   "cell_type": "code",
   "execution_count": 86,
   "id": "c926cd96",
   "metadata": {},
   "outputs": [
    {
     "name": "stdout",
     "output_type": "stream",
     "text": [
      "1\n",
      "3\n",
      "5\n",
      "7\n"
     ]
    }
   ],
   "source": [
    "# Iterate through every scalar element of the 2D array skipping 1 element:\n",
    "\n",
    "arrNew = np.array([[1, 2, 3, 4], [5, 6, 7, 8]])\n",
    "\n",
    "for x in np.nditer(arrNew[:, ::2]):\n",
    "    print(x)"
   ]
  },
  {
   "cell_type": "markdown",
   "id": "b67d0cb5",
   "metadata": {},
   "source": [
    "# NumPy Joining Array"
   ]
  },
  {
   "cell_type": "markdown",
   "id": "4989a654",
   "metadata": {},
   "source": [
    "* putting contents of two or more than two array into single array\n",
    "* we pass a sequence of arrays that we want to join to the `concatenate()` funct, along with the axis, if axis is not explicitly passed, it taken as 0."
   ]
  },
  {
   "cell_type": "code",
   "execution_count": 89,
   "id": "da73c6ba",
   "metadata": {},
   "outputs": [
    {
     "name": "stdout",
     "output_type": "stream",
     "text": [
      "[14 30  9  5 12 24 36 48 60]\n"
     ]
    }
   ],
   "source": [
    "NewArr_one = np.array([12,24,36,48,60])\n",
    "\n",
    "arrJoin = np.concatenate((arr_one,NewArr_one))\n",
    "print(arrJoin)\n"
   ]
  },
  {
   "cell_type": "markdown",
   "id": "76bd151a",
   "metadata": {},
   "source": [
    "> join 2D array"
   ]
  },
  {
   "cell_type": "code",
   "execution_count": 93,
   "id": "64485c66",
   "metadata": {},
   "outputs": [
    {
     "name": "stdout",
     "output_type": "stream",
     "text": [
      "[[1 2]\n",
      " [3 4]\n",
      " [5 6]\n",
      " [7 8]]\n"
     ]
    }
   ],
   "source": [
    "arr1 = np.array([[1, 2], [3, 4]])\n",
    "\n",
    "arr2 = np.array([[5, 6], [7, 8]])\n",
    "\n",
    "arr = np.concatenate((arr1, arr2), axis=0)\n",
    "\n",
    "print(arr)"
   ]
  },
  {
   "cell_type": "markdown",
   "id": "c822a894",
   "metadata": {},
   "source": [
    ">>Joining Arrays Using Stack Functions"
   ]
  },
  {
   "cell_type": "markdown",
   "id": "af339484",
   "metadata": {},
   "source": [
    "Stacking is same as concatenation, the only difference is that stacking is done along a new axis.\n",
    "\n",
    "We can concatenate two 1-D arrays along the second axis which would result in putting them one over the other, ie. stacking.\n",
    "\n",
    "We pass a sequence of arrays that we want to join to the `stack()` method along with the axis. If axis is not explicitly passed it is taken as 0.\n"
   ]
  },
  {
   "cell_type": "code",
   "execution_count": 104,
   "id": "76790556",
   "metadata": {},
   "outputs": [
    {
     "name": "stdout",
     "output_type": "stream",
     "text": [
      "[[1 4]\n",
      " [2 5]\n",
      " [3 6]]\n"
     ]
    }
   ],
   "source": [
    "newarr1 = np.array([1, 2, 3])\n",
    "\n",
    "newarr2 = np.array([4, 5, 6])\n",
    "\n",
    "print(np.stack((newarr1,newarr2),axis = 1))"
   ]
  },
  {
   "cell_type": "markdown",
   "id": "40b45cad",
   "metadata": {},
   "source": [
    "> stacking along rows"
   ]
  },
  {
   "cell_type": "code",
   "execution_count": 105,
   "id": "75be4d90",
   "metadata": {},
   "outputs": [
    {
     "name": "stdout",
     "output_type": "stream",
     "text": [
      "[1 2 3 4 5 6]\n"
     ]
    }
   ],
   "source": [
    "print(np.hstack((newarr1,newarr2)))"
   ]
  },
  {
   "cell_type": "markdown",
   "id": "5d134a87",
   "metadata": {},
   "source": [
    "> stacking along columns"
   ]
  },
  {
   "cell_type": "code",
   "execution_count": 106,
   "id": "844fdbc1",
   "metadata": {},
   "outputs": [
    {
     "name": "stdout",
     "output_type": "stream",
     "text": [
      "[[1 2 3]\n",
      " [4 5 6]]\n"
     ]
    }
   ],
   "source": [
    "print(np.vstack((newarr1,newarr2)))"
   ]
  },
  {
   "cell_type": "markdown",
   "id": "86cc3b55",
   "metadata": {},
   "source": [
    "> stacking along Height(depth)"
   ]
  },
  {
   "cell_type": "markdown",
   "id": "cd53bee1",
   "metadata": {},
   "source": [
    "NumPy provides a helper function: `dstack()` to stack along height, which is the same as depth."
   ]
  },
  {
   "cell_type": "code",
   "execution_count": 108,
   "id": "c209e83b",
   "metadata": {},
   "outputs": [
    {
     "name": "stdout",
     "output_type": "stream",
     "text": [
      "[[[1 4]\n",
      "  [2 5]\n",
      "  [3 6]]]\n"
     ]
    }
   ],
   "source": [
    "print(np.dstack((newarr1,newarr2)))"
   ]
  },
  {
   "cell_type": "markdown",
   "id": "b6850078",
   "metadata": {},
   "source": [
    "# NumPy Splitting Array\n",
    "* it's reverse of joining operation\n",
    "* splitting breaks one array into multiple.\n",
    "* using `array_split()` for splitting arrays, we pass it array to split and the number of splits."
   ]
  },
  {
   "cell_type": "code",
   "execution_count": 113,
   "id": "385bcc89",
   "metadata": {},
   "outputs": [
    {
     "name": "stdout",
     "output_type": "stream",
     "text": [
      "[array([1, 2]), array([3, 4]), array([5, 6])]\n"
     ]
    }
   ],
   "source": [
    "new1Darr = np.array([1,2,3,4,5,6])\n",
    "print(np.array_split(new1Darr,3))"
   ]
  },
  {
   "cell_type": "markdown",
   "id": "52219581",
   "metadata": {},
   "source": [
    "*  The return value is a list containing three arrays.\n",
    "* If the array has less elements than required, it will adjust from the end accordingly."
   ]
  },
  {
   "cell_type": "code",
   "execution_count": 114,
   "id": "6a7126f4",
   "metadata": {},
   "outputs": [
    {
     "name": "stdout",
     "output_type": "stream",
     "text": [
      "[array([1, 2]), array([3, 4]), array([5]), array([6])]\n"
     ]
    }
   ],
   "source": [
    "print(np.array_split(new1Darr,4))\n"
   ]
  },
  {
   "cell_type": "markdown",
   "id": "4724a159",
   "metadata": {},
   "source": [
    "We also have the method `split()` available but it will not adjust the elements when elements are less in source array for splitting like in example above, `array_split()` worked properly but `split()` would fail."
   ]
  },
  {
   "cell_type": "markdown",
   "id": "f1f40294",
   "metadata": {},
   "source": [
    "> split into arrays\n",
    "* return value of `array_split()` method is a list containing each of the split as an array.\n"
   ]
  },
  {
   "cell_type": "code",
   "execution_count": 118,
   "id": "9aff284e",
   "metadata": {},
   "outputs": [
    {
     "name": "stdout",
     "output_type": "stream",
     "text": [
      "[1 2]\n"
     ]
    }
   ],
   "source": [
    "narr = np.array([1,2,3,4,5,6])\n",
    "newnarr = np.array_split(narr,3)\n",
    "print(newnarr[0])"
   ]
  },
  {
   "cell_type": "markdown",
   "id": "bcd58cd2",
   "metadata": {},
   "source": [
    "> Splitting 2D array"
   ]
  },
  {
   "cell_type": "code",
   "execution_count": 119,
   "id": "d04bb889",
   "metadata": {},
   "outputs": [
    {
     "name": "stdout",
     "output_type": "stream",
     "text": [
      "[[2 4 6]\n",
      " [1 3 5]]\n"
     ]
    }
   ],
   "source": [
    "print(arr_two)"
   ]
  },
  {
   "cell_type": "code",
   "execution_count": 126,
   "id": "d2571067",
   "metadata": {},
   "outputs": [
    {
     "name": "stdout",
     "output_type": "stream",
     "text": [
      "[array([[2, 4, 6]]), array([[1, 3, 5]])]\n"
     ]
    }
   ],
   "source": [
    "print(np.array_split(arr_two,2))"
   ]
  },
  {
   "cell_type": "code",
   "execution_count": 129,
   "id": "262985cf",
   "metadata": {},
   "outputs": [
    {
     "name": "stdout",
     "output_type": "stream",
     "text": [
      "[array([[1, 2, 3],\n",
      "       [4, 5, 6]]), array([[ 7,  8,  9],\n",
      "       [10, 11, 12]]), array([[13, 14, 15],\n",
      "       [16, 17, 18]])]\n"
     ]
    }
   ],
   "source": [
    "bigarr_two = np.array([[1, 2, 3], [4, 5, 6], [7, 8, 9], [10, 11, 12], [13, 14, 15], [16, 17, 18]])\n",
    "newbigarr_two = np.array_split(bigarr_two,3)\n",
    "print(newbigarr_two)"
   ]
  },
  {
   "cell_type": "markdown",
   "id": "1a3be38d",
   "metadata": {},
   "source": [
    "> specifying axis"
   ]
  },
  {
   "cell_type": "code",
   "execution_count": 130,
   "id": "5d2f16a7",
   "metadata": {},
   "outputs": [
    {
     "name": "stdout",
     "output_type": "stream",
     "text": [
      "[array([[ 1],\n",
      "       [ 4],\n",
      "       [ 7],\n",
      "       [10],\n",
      "       [13],\n",
      "       [16]]), array([[ 2],\n",
      "       [ 5],\n",
      "       [ 8],\n",
      "       [11],\n",
      "       [14],\n",
      "       [17]]), array([[ 3],\n",
      "       [ 6],\n",
      "       [ 9],\n",
      "       [12],\n",
      "       [15],\n",
      "       [18]])]\n"
     ]
    }
   ],
   "source": [
    "print(np.array_split(bigarr_two,3,axis=1))"
   ]
  },
  {
   "cell_type": "markdown",
   "id": "7f2209b6",
   "metadata": {},
   "source": [
    "* an alternate sol<sup>n</sup> is using `hsplit() opposite of `hstack()`"
   ]
  },
  {
   "cell_type": "code",
   "execution_count": 131,
   "id": "9b68d7ee",
   "metadata": {},
   "outputs": [
    {
     "name": "stdout",
     "output_type": "stream",
     "text": [
      "[array([[ 1],\n",
      "       [ 4],\n",
      "       [ 7],\n",
      "       [10],\n",
      "       [13],\n",
      "       [16]]), array([[ 2],\n",
      "       [ 5],\n",
      "       [ 8],\n",
      "       [11],\n",
      "       [14],\n",
      "       [17]]), array([[ 3],\n",
      "       [ 6],\n",
      "       [ 9],\n",
      "       [12],\n",
      "       [15],\n",
      "       [18]])]\n"
     ]
    }
   ],
   "source": [
    "print(np.hsplit(bigarr_two,3))"
   ]
  },
  {
   "cell_type": "markdown",
   "id": "f5437024",
   "metadata": {},
   "source": [
    " Similar alternates to `vstack()` and `dstack()` are available as `vsplit()` and `dsplit()`"
   ]
  },
  {
   "cell_type": "markdown",
   "id": "c56a6f3a",
   "metadata": {},
   "source": [
    "# Numpy Searching Arrays"
   ]
  },
  {
   "cell_type": "markdown",
   "id": "04a9b069",
   "metadata": {},
   "source": [
    "* we can search an array for a certain value, and return the indexes that get a match. we can do so by using `where()` method."
   ]
  },
  {
   "cell_type": "code",
   "execution_count": 138,
   "id": "c70e3371",
   "metadata": {},
   "outputs": [
    {
     "name": "stdout",
     "output_type": "stream",
     "text": [
      "[14 30  9  5]\n",
      "(array([1]),)\n"
     ]
    }
   ],
   "source": [
    "print(arr_one)\n",
    "x = np.where(arr_one==30)    # returns all the indexes where the value is present\n",
    "print(x)    "
   ]
  },
  {
   "cell_type": "code",
   "execution_count": 139,
   "id": "bbc43c3f",
   "metadata": {},
   "outputs": [
    {
     "name": "stdout",
     "output_type": "stream",
     "text": [
      "(array([0, 1]),)\n"
     ]
    }
   ],
   "source": [
    "# return even value\n",
    "print(np.where(arr_one%2==0))"
   ]
  },
  {
   "cell_type": "markdown",
   "id": "9d661d71",
   "metadata": {},
   "source": [
    "# Search sorted\n",
    "* `searchsorted()` method performs a binary search in the array, and returns the index where the specific value would be inserted to maintain the search order.\n",
    "* method is assumed to be used on sorted arrays."
   ]
  },
  {
   "cell_type": "code",
   "execution_count": null,
   "id": "d2650daf",
   "metadata": {},
   "outputs": [
    {
     "name": "stdout",
     "output_type": "stream",
     "text": [
      "3\n"
     ]
    }
   ],
   "source": [
    "print(np.searchsorted(np.array([5,9,14,30,1430]),21))"
   ]
  },
  {
   "cell_type": "markdown",
   "id": "70ba8f6a",
   "metadata": {},
   "source": [
    "* The method starts the search from the left and returns the first index where the number 7 is no longer larger than the next value."
   ]
  },
  {
   "cell_type": "markdown",
   "id": "6486a0cc",
   "metadata": {},
   "source": [
    "> Search from the right side\n",
    "* By default the left most index is returned, but we can give `side='right'` to return the right most index instead."
   ]
  },
  {
   "cell_type": "code",
   "execution_count": 145,
   "id": "cbfb7fd6",
   "metadata": {},
   "outputs": [
    {
     "name": "stdout",
     "output_type": "stream",
     "text": [
      "2\n"
     ]
    }
   ],
   "source": [
    "print(np.searchsorted(arr3,10,side='right'))"
   ]
  },
  {
   "cell_type": "markdown",
   "id": "494896ad",
   "metadata": {},
   "source": [
    "* The method starts the search from the right and returns the first index where the number 7 is no longer less than the next value."
   ]
  },
  {
   "cell_type": "markdown",
   "id": "bc527a69",
   "metadata": {},
   "source": [
    "> Multiple values"
   ]
  },
  {
   "cell_type": "code",
   "execution_count": 146,
   "id": "152b805e",
   "metadata": {},
   "outputs": [
    {
     "name": "stdout",
     "output_type": "stream",
     "text": [
      "[0 0 4]\n"
     ]
    }
   ],
   "source": [
    "print(np.searchsorted(arr3,[2,4,90]))"
   ]
  },
  {
   "cell_type": "markdown",
   "id": "c6dadcd4",
   "metadata": {},
   "source": [
    "# Numpy Sorted Array\n",
    "* using ` sort()` function"
   ]
  },
  {
   "cell_type": "code",
   "execution_count": 157,
   "id": "500e04de",
   "metadata": {},
   "outputs": [
    {
     "name": "stdout",
     "output_type": "stream",
     "text": [
      "[    2     3     4     4     5    10    13    14    30    42 15321]\n"
     ]
    }
   ],
   "source": [
    "print(np.sort(np.array([2,42,30,10,4,5,3,13,15321,14,4])))"
   ]
  },
  {
   "cell_type": "markdown",
   "id": "18071f15",
   "metadata": {},
   "source": [
    "* it returns the `copy` of array"
   ]
  },
  {
   "cell_type": "markdown",
   "id": "2f74adb9",
   "metadata": {},
   "source": [
    "> sorting 2D array"
   ]
  },
  {
   "cell_type": "code",
   "execution_count": 158,
   "id": "5c8c6d6d",
   "metadata": {},
   "outputs": [
    {
     "name": "stdout",
     "output_type": "stream",
     "text": [
      "[[  2   3   5   7]\n",
      " [  3   5  11 854]]\n"
     ]
    }
   ],
   "source": [
    "print(np.sort(np.array([[2,7,3,5],[3,854,11,5]])))"
   ]
  },
  {
   "cell_type": "markdown",
   "id": "057a80a2",
   "metadata": {},
   "source": [
    "# Array Filtering\n",
    "* creating new array from existing array by getting some element\n",
    "* we filter using a boolean index list\n",
    "* `boolean index` is a list of boolean corresponding to indexes in the array\n",
    "* If the value at an index is True that element is contained in the filtered array, if the value at that index is False that element is excluded from the filtered array.\n"
   ]
  },
  {
   "cell_type": "code",
   "execution_count": 166,
   "id": "5be38cbe",
   "metadata": {},
   "outputs": [
    {
     "name": "stdout",
     "output_type": "stream",
     "text": [
      "[14 30  9  5]\n",
      "[14  9]\n"
     ]
    }
   ],
   "source": [
    "x = [True,False,True,False]\n",
    "print(arr_one)\n",
    "print(arr_one[x])"
   ]
  },
  {
   "cell_type": "markdown",
   "id": "07117fbe",
   "metadata": {},
   "source": [
    " the new array contains only the values where the filter array had the value True, in this case, index 0 and 2."
   ]
  },
  {
   "cell_type": "markdown",
   "id": "c0a8fd99",
   "metadata": {},
   "source": [
    "> Creating the Filter Array\n",
    "In the example above we hard-coded the `True` and `False` values, but the common use is to create a filter array based on conditions."
   ]
  },
  {
   "cell_type": "code",
   "execution_count": 168,
   "id": "41189278",
   "metadata": {},
   "outputs": [
    {
     "name": "stdout",
     "output_type": "stream",
     "text": [
      "[False, False, False, False]\n",
      "[]\n"
     ]
    }
   ],
   "source": [
    "# Create an empty list\n",
    "filter_arr = []\n",
    "\n",
    "# go through each element in arr\n",
    "for element in arr_one:\n",
    "  # if the element is higher than 42, set the value to True, otherwise False:\n",
    "  if element > 42:\n",
    "    filter_arr.append(True)\n",
    "  else:\n",
    "    filter_arr.append(False)\n",
    "\n",
    "\n",
    "print(filter_arr)\n",
    "print(arr[filter_arr])"
   ]
  },
  {
   "cell_type": "code",
   "execution_count": 170,
   "id": "bc989e95",
   "metadata": {},
   "outputs": [
    {
     "name": "stdout",
     "output_type": "stream",
     "text": [
      "[True, True, False, False]\n",
      "[14 30]\n"
     ]
    }
   ],
   "source": [
    "# return even elements\n",
    "# Create an empty list\n",
    "filter_arr = []\n",
    "\n",
    "# go through each element in arr\n",
    "for element in arr_one:\n",
    "  # if the element is completely divisble by 2, set the value to True, otherwise False\n",
    "  if element % 2 == 0:\n",
    "    filter_arr.append(True)\n",
    "  else:\n",
    "    filter_arr.append(False)\n",
    "\n",
    "print(filter_arr)\n",
    "print(arr_one[filter_arr])"
   ]
  },
  {
   "cell_type": "markdown",
   "id": "3204d248",
   "metadata": {},
   "source": [
    "> Creating Filter Directly From Array"
   ]
  },
  {
   "cell_type": "code",
   "execution_count": null,
   "id": "216bd95d",
   "metadata": {},
   "outputs": [
    {
     "name": "stdout",
     "output_type": "stream",
     "text": [
      "[ True  True False False]\n",
      "[14 30]\n"
     ]
    }
   ],
   "source": [
    "# Create a filter array that will return only values higher than 13\n",
    "filter_arr = arr_one > 13\n",
    "\n",
    "print(filter_arr)\n",
    "print(arr_one[filter_arr])"
   ]
  }
 ],
 "metadata": {
  "kernelspec": {
   "display_name": "Python 3",
   "language": "python",
   "name": "python3"
  },
  "language_info": {
   "codemirror_mode": {
    "name": "ipython",
    "version": 3
   },
   "file_extension": ".py",
   "mimetype": "text/x-python",
   "name": "python",
   "nbconvert_exporter": "python",
   "pygments_lexer": "ipython3",
   "version": "3.13.2"
  }
 },
 "nbformat": 4,
 "nbformat_minor": 5
}
